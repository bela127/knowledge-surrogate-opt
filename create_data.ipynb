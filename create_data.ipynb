{
 "cells": [
  {
   "cell_type": "code",
   "execution_count": 3,
   "metadata": {
    "ExecuteTime": {
     "end_time": "2023-07-07T21:19:43.612621Z",
     "start_time": "2023-07-07T21:19:43.606698Z"
    }
   },
   "outputs": [],
   "source": [
    "import numpy as np\n",
    "import os\n",
    "import json\n",
    "import matplotlib.image as mpli\n",
    "import scipy.interpolate as spi\n",
    "import pandas as pd\n",
    "from tqdm import tqdm"
   ]
  },
  {
   "cell_type": "code",
   "execution_count": 4,
   "metadata": {
    "ExecuteTime": {
     "end_time": "2023-07-07T21:19:43.680806Z",
     "start_time": "2023-07-07T21:19:43.613419Z"
    }
   },
   "outputs": [],
   "source": [
    "path = os.path.dirname(\"__file__\")\n",
    "data_path = os.path.join(path, \"data\")\n",
    "init_data_path = os.path.join(path, \"Austausch_IPD_Optimierung\")"
   ]
  },
  {
   "cell_type": "code",
   "execution_count": 3,
   "metadata": {
    "ExecuteTime": {
     "end_time": "2023-06-02T14:47:12.602323Z",
     "start_time": "2023-06-02T14:47:10.741379Z"
    }
   },
   "outputs": [],
   "source": [
    "shape_data_path = os.path.join(data_path, \"shape\")\n",
    "os.makedirs(shape_data_path, exist_ok=True)\n",
    "\n",
    "\n",
    "def create_shape():\n",
    "    image_tool_path = os.path.join(init_data_path, \"gen_greyscale_image_tool\")\n",
    "    abs_path_gs_json = os.path.join(image_tool_path, \"tool_greyscale.json\")\n",
    "    abs_path_nodes = os.path.join(image_tool_path, \"nodes_doubledome.npy\")\n",
    "    abs_path_gs_img = os.path.join(shape_data_path, \"doubledome_shape.png\")\n",
    "    abs_path_gs_matrix = os.path.join(shape_data_path, \"doubledome_shape.npy\")\n",
    "\n",
    "    # load greyscale parameters:\n",
    "    with open(abs_path_gs_json, \"r\") as gs_json:\n",
    "        gs_param = json.load(gs_json)\n",
    "\n",
    "    # load nodes of geometry:\n",
    "    nodes_xyz = np.load(abs_path_nodes)\n",
    "\n",
    "    x_min = gs_param[\"bb_x_min\"]\n",
    "    x_max = gs_param[\"bb_x_max\"]\n",
    "    y_min = gs_param[\"bb_y_min\"]\n",
    "    y_max = gs_param[\"bb_y_max\"]\n",
    "    num_pxl_x = gs_param[\"num_pxl_x\"]\n",
    "    num_pxl_y = gs_param[\"num_pxl_y\"]\n",
    "    h_min = gs_param[\"h_min\"]\n",
    "    h_max = gs_param[\"h_max\"]\n",
    "\n",
    "    x_grid = np.linspace(x_min, x_max, num_pxl_x)\n",
    "    y_grid = np.linspace(y_min, y_max, num_pxl_y)\n",
    "    pix_x, pix_y = np.meshgrid(x_grid, y_grid)\n",
    "\n",
    "    if np.any(nodes_xyz):  # Check if any non-zero values in array (i.e. valid mesh):\n",
    "        nodes_xyz = np.unique(nodes_xyz, axis=0)\n",
    "        nodes_xy = nodes_xyz[:, 0:2]\n",
    "        nodes_z = nodes_xyz[:, 2]\n",
    "\n",
    "        pix_gs = spi.griddata(nodes_xy, nodes_z, (pix_x, pix_y), method=\"linear\")\n",
    "        #pix_gs = np.flipud(pix_gs)\n",
    "    else:\n",
    "        pix_gs = np.zeros((32, 32))\n",
    "\n",
    "    mask = pix_gs < 0\n",
    "    pix_gs[mask] = 0\n",
    "\n",
    "    mpli.imsave(abs_path_gs_img, pix_gs, cmap=\"gray\", vmin=h_min, vmax=h_max)\n",
    "    np.save(abs_path_gs_matrix, pix_gs)\n",
    "\n",
    "    return pix_gs\n",
    "\n",
    "\n",
    "pix_gs = create_shape()"
   ]
  },
  {
   "cell_type": "code",
   "execution_count": 4,
   "metadata": {
    "ExecuteTime": {
     "end_time": "2023-05-15T12:31:22.700592Z",
     "start_time": "2023-05-15T12:31:22.700041Z"
    }
   },
   "outputs": [],
   "source": [
    "grippers_path = os.path.join(init_data_path, \"spring_coords\")\n",
    "grippers_directory_coordinates_xy = np.load(grippers_path + '/spring_dir_of_attack_coords.npy')[:2]\n",
    "grippers_point_coordinates_xy = np.load(grippers_path + '/spring_pnt_of_attack_coords.npy')[:2]"
   ]
  },
  {
   "cell_type": "code",
   "execution_count": 5,
   "metadata": {
    "ExecuteTime": {
     "end_time": "2023-05-15T12:33:33.067393Z",
     "start_time": "2023-05-15T12:31:22.700168Z"
    },
    "collapsed": false
   },
   "outputs": [
    {
     "name": "stderr",
     "output_type": "stream",
     "text": [
      "100%|███████████████████████████████████████████| 60/60 [02:10<00:00,  2.17s/it]\n"
     ]
    }
   ],
   "source": [
    "encoding_data_path = os.path.join(data_path, \"encoding\")\n",
    "os.makedirs(encoding_data_path, exist_ok=True)\n",
    "\n",
    "\n",
    "def stiffness_distribution(x_0, y_0, x_dir, y_dir):\n",
    "    x_max = 300\n",
    "    y_max = 460\n",
    "\n",
    "    E_1 = 140.0\n",
    "    E_2 = 10.0\n",
    "    nu_12 = 0.3\n",
    "    G_12 = 0.1\n",
    "\n",
    "    Q_11 = E_1 / (1 - nu_12 ** 2 * E_2 / E_1)\n",
    "    Q_12 = nu_12 * E_2 / (1 - nu_12 ** 2 * E_2 / E_1)\n",
    "    Q_22 = E_2 / (1 - nu_12 ** 2 * E_2 / E_1)\n",
    "    Q_33 = G_12\n",
    "\n",
    "    def calculate_q11(x, y, _x_0, _y_0):\n",
    "        eps = 0.1  # prevent division by zero\n",
    "        if x_dir == -10 and y_dir == 0 and _x_0 == 0:  # spring on left\n",
    "            alpha_rad = np.arctan((y - _y_0) / (x + eps))\n",
    "        elif x_dir == 10 and y_dir == 0 and _x_0 == x_max:  # spring on right\n",
    "            alpha_rad = np.arctan((y - _y_0) / (x - _x_0 + eps)) + np.pi\n",
    "        elif x_dir == 0 and y_dir == -10 and _y_0 == 0:  # spring on bottom\n",
    "            x, y = y, x\n",
    "            _x_0, _y_0 = _y_0, _x_0\n",
    "            alpha_rad = np.arctan((y - _y_0) / (x + eps))\n",
    "        elif x_dir == 0 and y_dir == 10 and _y_0 == y_max:  # spring on top\n",
    "            x, y = y, x\n",
    "            _x_0, _y_0 = _y_0, _x_0\n",
    "            alpha_rad = np.arctan((y - _y_0) / (x - _x_0 + eps)) + np.pi\n",
    "        else:\n",
    "            raise ValueError('Invalid spring configuration!')\n",
    "        q_vec = np.array([Q_11, Q_12, Q_22, Q_33])\n",
    "        cs_vec = np.array([\n",
    "            np.cos(alpha_rad) ** 4,\n",
    "            2 * np.cos(alpha_rad) ** 2 * np.sin(alpha_rad) ** 2,\n",
    "            np.sin(alpha_rad) ** 4,\n",
    "            4 * np.cos(alpha_rad) ** 2 * np.sin(alpha_rad) ** 2\n",
    "        ])\n",
    "        q_11s = np.inner(cs_vec, q_vec)\n",
    "        r = np.sqrt((x - _x_0) ** 2 + (y - _y_0) ** 2)\n",
    "        len_aff_inf = 30\n",
    "        len_aff_0 = 10\n",
    "        r_ref = 200\n",
    "        len_aff = (1 - np.exp(-(r / r_ref))) * (len_aff_inf - len_aff_0) + len_aff_0\n",
    "        kd = np.exp(-((y - _y_0) / len_aff) ** 2)\n",
    "\n",
    "        q_11s_kd = kd * q_11s / Q_11\n",
    "        return q_11s_kd\n",
    "\n",
    "    _xx = np.arange(0, x_max)\n",
    "    _yy = np.arange(0, y_max)\n",
    "    xg, yg = np.meshgrid(_xx, _yy)\n",
    "\n",
    "    q_rel = np.array([calculate_q11(x, y, x_0, y_0) for x, y in zip(xg.ravel(), yg.ravel())]).reshape(\n",
    "        xg.shape)\n",
    "\n",
    "    return q_rel\n",
    "\n",
    "\n",
    "for i in tqdm(range(len(grippers_point_coordinates_xy[0]))):\n",
    "    distrib = stiffness_distribution(grippers_point_coordinates_xy[0][i] + 150,\n",
    "                                     grippers_point_coordinates_xy[1][i] + 230,\n",
    "                                     grippers_directory_coordinates_xy[0][i],\n",
    "                                     grippers_directory_coordinates_xy[1][i])\n",
    "    abs_path_gs_img = os.path.join(encoding_data_path, f\"encoding_{i}.png\")\n",
    "    abs_path_gs_matrix = os.path.join(encoding_data_path, f\"encoding_{i}.npy\")\n",
    "    mpli.imsave(abs_path_gs_img, distrib, cmap=\"gray\", vmin=0, vmax=1)\n",
    "    np.save(abs_path_gs_matrix, distrib)"
   ]
  },
  {
   "cell_type": "code",
   "execution_count": 7,
   "metadata": {
    "ExecuteTime": {
     "end_time": "2023-07-07T21:20:26.748467Z",
     "start_time": "2023-07-07T21:20:26.731293Z"
    },
    "collapsed": false
   },
   "outputs": [],
   "source": [
    "u_springs_path = os.path.join(init_data_path, \"u_spring\", \"U_spring_doubledome.csv\")\n",
    "lengths_u = pd.read_csv(u_springs_path)"
   ]
  },
  {
   "cell_type": "code",
   "execution_count": 15,
   "metadata": {
    "ExecuteTime": {
     "end_time": "2023-05-15T13:30:52.864498Z",
     "start_time": "2023-05-15T13:30:52.811201Z"
    }
   },
   "outputs": [],
   "source": [
    "data_type = 'val'"
   ]
  },
  {
   "cell_type": "code",
   "execution_count": 16,
   "metadata": {
    "ExecuteTime": {
     "end_time": "2023-05-15T13:30:53.531885Z",
     "start_time": "2023-05-15T13:30:53.523220Z"
    }
   },
   "outputs": [],
   "source": [
    "strain_field_data_path = os.path.join(data_path, \"strain_field\", data_type)\n",
    "os.makedirs(strain_field_data_path, exist_ok=True)\n",
    "\n",
    "\n",
    "def create_strain_field(gamma, image_name):\n",
    "    shear_path = os.path.join(init_data_path, \"gen_greyscale_shear\")\n",
    "    el_coords_xyz = np.load(os.path.join(shear_path, 'el_coords_xyz.npy'))\n",
    "\n",
    "    abs_path_out_image = os.path.join(strain_field_data_path, image_name + '.png')\n",
    "    abs_path_out_matrix = os.path.join(strain_field_data_path, image_name + '.npy')\n",
    "\n",
    "    x_min = -150.0\n",
    "    x_max = 150.0\n",
    "    num_pxl_x = 300\n",
    "\n",
    "    y_min = -230.0\n",
    "    y_max = 230.0\n",
    "    num_pxl_y = 460\n",
    "\n",
    "    h_min = 0\n",
    "    h_max = 90.0\n",
    "\n",
    "    x_grid = np.linspace(x_min, x_max, num_pxl_x)\n",
    "    y_grid = np.linspace(y_min, y_max, num_pxl_y)\n",
    "    pix_x, pix_y = np.meshgrid(x_grid, y_grid)\n",
    "\n",
    "    nodes_xy = el_coords_xyz[:2, :].T\n",
    "    pix_gs = spi.griddata(nodes_xy, gamma, (pix_x, pix_y), method='linear')\n",
    "    #pix_gs = np.flipud(pix_gs)\n",
    "\n",
    "    # fill in NaN values\n",
    "    x_ind, y_ind = np.indices(pix_gs.shape)\n",
    "    missing = np.isnan(pix_gs)\n",
    "    points = np.column_stack([x_ind[~missing], y_ind[~missing]])\n",
    "    values = pix_gs[~missing]\n",
    "    pix_gs[missing] = spi.griddata(points, values, (x_ind[missing], y_ind[missing]), method='nearest')\n",
    "\n",
    "    mpli.imsave(abs_path_out_image, pix_gs, cmap='gray', vmin=h_min, vmax=h_max)\n",
    "    np.save(abs_path_out_matrix, pix_gs)"
   ]
  },
  {
   "cell_type": "code",
   "execution_count": 17,
   "metadata": {
    "ExecuteTime": {
     "end_time": "2023-05-15T13:30:54.942832Z",
     "start_time": "2023-05-15T13:30:54.719246Z"
    }
   },
   "outputs": [],
   "source": [
    "simulated_data_path = os.path.join(init_data_path, \"XY-Simulationsdaten_\" + data_type)\n",
    "simulated_forces = np.load(simulated_data_path + '/x_vals.npy')\n",
    "simulated_angels = np.load(simulated_data_path + '/y_vals.npy')"
   ]
  },
  {
   "cell_type": "code",
   "execution_count": 18,
   "metadata": {
    "ExecuteTime": {
     "end_time": "2023-05-15T13:30:55.776819Z",
     "start_time": "2023-05-15T13:30:55.776473Z"
    }
   },
   "outputs": [],
   "source": [
    "# Material properties\n",
    "E_1 = 140.0  # in N/mm² --> in direction of the springs --> x-direction here\n",
    "E_2 = 10.0  # in N/mm² --> transverse direction of the springs\n",
    "nu_12 = 0.3  # Poissons ratio\n",
    "G_12 = 0.1  # Shear modulus\n",
    "\n",
    "# Calculate stiffnesses before rotation\n",
    "Q_11 = E_1 / (1 - nu_12 ** 2 * E_2 / E_1)\n",
    "Q_12 = nu_12 * E_2 / (1 - nu_12 ** 2 * E_2 / E_1)\n",
    "Q_22 = E_2 / (1 - nu_12 ** 2 * E_2 / E_1)\n",
    "Q_33 = G_12"
   ]
  },
  {
   "cell_type": "code",
   "execution_count": 19,
   "metadata": {
    "ExecuteTime": {
     "end_time": "2023-05-15T13:30:57.179006Z",
     "start_time": "2023-05-15T13:30:56.998208Z"
    }
   },
   "outputs": [],
   "source": [
    "n_grippers = len(grippers_point_coordinates_xy[0])\n",
    "n_angels = len(simulated_angels[0])\n",
    "\n",
    "columns = ['stamp_shape_image_path', 'stamp_shape_matrix_path'] + \\\n",
    "          [f'gripper_x_{i}' for i in range(n_grippers)] + \\\n",
    "          [f'gripper_y_{i}' for i in range(n_grippers)] + \\\n",
    "          [f'gripper_dir_x_{i}' for i in range(n_grippers)] + \\\n",
    "          [f'gripper_dir_y_{i}' for i in range(n_grippers)] + \\\n",
    "          [f'gripper_force_{i}' for i in range(n_grippers)] + \\\n",
    "          [f'gripper_length_{i}' for i in range(n_grippers)] + \\\n",
    "          [f'gripper_encoding_image_path_{i}' for i in range(n_grippers)] + \\\n",
    "          [f'gripper_encoding_matrix_path_{i}' for i in range(n_grippers)] + \\\n",
    "          ['characteristic_e_1', 'characteristic_e_2', 'characteristic_nu_12', 'characteristic_g_12'] + \\\n",
    "          ['stiffness_q_11', 'stiffness_q_12', 'stiffness_q_22', 'stiffness_q_33'] + \\\n",
    "          [f'angle_{i}' for i in range(n_angels)] + \\\n",
    "          ['strain_field_image_path', 'strain_field_matrix_path']\n",
    "\n",
    "data = pd.DataFrame(columns=columns)"
   ]
  },
  {
   "cell_type": "code",
   "execution_count": 20,
   "metadata": {
    "ExecuteTime": {
     "end_time": "2023-05-15T13:36:24.747541Z",
     "start_time": "2023-05-15T13:30:58.026726Z"
    }
   },
   "outputs": [
    {
     "name": "stderr",
     "output_type": "stream",
     "text": [
      "100%|█████████████████████████████████████████| 100/100 [05:26<00:00,  3.27s/it]\n"
     ]
    }
   ],
   "source": [
    "for idx, forces in tqdm(enumerate(simulated_forces), total=len(simulated_forces)):\n",
    "    angles = simulated_angels[idx]\n",
    "    image_name = f'strain_field_{idx}'\n",
    "    create_strain_field(angles, image_name)\n",
    "    data.loc[idx] = ['data/shape/doubledome_shape.png', 'data/shape/doubledome_shape.npy'] + \\\n",
    "                    list(grippers_point_coordinates_xy[0] + 150) + \\\n",
    "                    list(grippers_point_coordinates_xy[1] + 230) + \\\n",
    "                    list(grippers_directory_coordinates_xy[0]) + \\\n",
    "                    list(grippers_directory_coordinates_xy[1]) + \\\n",
    "                    list(forces) + \\\n",
    "                    lengths_u['u'].tolist() + \\\n",
    "                    [f'data/encoding/encoding_{i}.png' for i in range(n_grippers)] + \\\n",
    "                    [f'data/encoding/encoding_{i}.npy' for i in range(n_grippers)] + \\\n",
    "                    [E_1, E_2, nu_12, G_12] + \\\n",
    "                    [Q_11, Q_12, Q_22, Q_33] + \\\n",
    "                    list(angles) + \\\n",
    "                    [f'data/strain_field/{data_type}/{image_name}.png',\n",
    "                     f'data/strain_field/{data_type}/{image_name}.npy']"
   ]
  },
  {
   "cell_type": "code",
   "execution_count": 21,
   "metadata": {
    "ExecuteTime": {
     "end_time": "2023-05-15T13:36:34.998821Z",
     "start_time": "2023-05-15T13:36:24.711310Z"
    }
   },
   "outputs": [],
   "source": [
    "data.to_csv(os.path.join(data_path, f'{data_type}.csv'), index=False)"
   ]
  },
  {
   "cell_type": "code",
   "execution_count": 22,
   "metadata": {
    "ExecuteTime": {
     "end_time": "2023-05-15T13:36:35.244668Z",
     "start_time": "2023-05-15T13:36:35.009680Z"
    },
    "collapsed": false
   },
   "outputs": [],
   "source": [
    "data = data.filter(regex=\"stamp_shape_matrix_path|gripper_force|gripper_length|strain_field_matrix_path\")\n",
    "data.to_csv(os.path.join(data_path, f'{data_type}_short.csv'), index=False)"
   ]
  }
 ],
 "metadata": {
  "kernelspec": {
   "display_name": "Python 3 (ipykernel)",
   "language": "python",
   "name": "python3"
  },
  "language_info": {
   "codemirror_mode": {
    "name": "ipython",
    "version": 3
   },
   "file_extension": ".py",
   "mimetype": "text/x-python",
   "name": "python",
   "nbconvert_exporter": "python",
   "pygments_lexer": "ipython3",
   "version": "3.9.16"
  }
 },
 "nbformat": 4,
 "nbformat_minor": 1
}
